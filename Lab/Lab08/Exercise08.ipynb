{
 "cells": [
  {
   "cell_type": "markdown",
   "metadata": {},
   "source": [
    "# Exercise 08: Implementation of Fuzz Effect"
   ]
  },
  {
   "cell_type": "code",
   "execution_count": 1,
   "metadata": {},
   "outputs": [],
   "source": [
    "%matplotlib inline\n",
    "import sys\n",
    "sys.path.append('../SoundSyn')\n",
    "sys.path.append('../Thinkdsp')\n",
    "import soundSyn\n",
    "import thinkdsp\n",
    "\n",
    "import numpy as np\n",
    "import matplotlib.pyplot as plt"
   ]
  },
  {
   "cell_type": "markdown",
   "metadata": {},
   "source": [
    "Implement a guitar effect called \"Fuzz\". <a href=\"https://www.youtube.com/watch?v=nrIPxlFzDi0\">Here</a> is an example video. \n",
    "\n",
    "Fuzz transforms the input signal by\n",
    "<ul>\n",
    "<li>when $x = 0$,\n",
    "    $y = 0$\n",
    "<li>when $x \\neq 0$,\n",
    "$$\n",
    "y = \\frac{-x}{|x|} \\left(1 - \\exp\\left(\\frac{-g x^2}{|x|}\\right) \\right)\n",
    "$$\n",
    "where $0.1 \\leq g \\leq 10$ is the gain which controls the level of distortion/fuzz. \n",
    "</ul>    "
   ]
  },
  {
   "cell_type": "markdown",
   "metadata": {},
   "source": [
    "In Python, $|x|$ can be calculated by $\\texttt{abs(x)}$. For example,"
   ]
  },
  {
   "cell_type": "code",
   "execution_count": 2,
   "metadata": {},
   "outputs": [
    {
     "data": {
      "text/plain": [
       "3"
      ]
     },
     "execution_count": 2,
     "metadata": {},
     "output_type": "execute_result"
    }
   ],
   "source": [
    "abs(-3)"
   ]
  },
  {
   "cell_type": "code",
   "execution_count": 3,
   "metadata": {},
   "outputs": [
    {
     "data": {
      "text/plain": [
       "3"
      ]
     },
     "execution_count": 3,
     "metadata": {},
     "output_type": "execute_result"
    }
   ],
   "source": [
    "abs(3)"
   ]
  },
  {
   "cell_type": "markdown",
   "metadata": {},
   "source": [
    "The exponential function $\\exp(x)$ can be calculated by $\\texttt{np.exp(x)}$. For example,"
   ]
  },
  {
   "cell_type": "code",
   "execution_count": 4,
   "metadata": {},
   "outputs": [
    {
     "data": {
      "text/plain": [
       "2.718281828459045"
      ]
     },
     "execution_count": 4,
     "metadata": {},
     "output_type": "execute_result"
    }
   ],
   "source": [
    "np.exp(1)"
   ]
  },
  {
   "cell_type": "code",
   "execution_count": 5,
   "metadata": {},
   "outputs": [
    {
     "data": {
      "text/plain": [
       "0.1353352832366127"
      ]
     },
     "execution_count": 5,
     "metadata": {},
     "output_type": "execute_result"
    }
   ],
   "source": [
    "np.exp(-2)"
   ]
  },
  {
   "cell_type": "markdown",
   "metadata": {},
   "source": [
    "Complete the implementation below."
   ]
  },
  {
   "cell_type": "code",
   "execution_count": 6,
   "metadata": {},
   "outputs": [],
   "source": [
    "waveSin = thinkdsp.sin_wave(220,3)\n",
    "ssET = soundSyn.SoundSyn()\n",
    "ssET.set_partial([1,0.8,0.7,0.9,0.5,0.7,0.5,0.5])  # guitar ??\n",
    "ssET.set_file(\"sunshine.txt\")\n",
    "waveSun = ssET.make_wave()"
   ]
  },
  {
   "cell_type": "markdown",
   "metadata": {},
   "source": [
    "Implement the fuzz transform here:"
   ]
  },
  {
   "cell_type": "code",
   "execution_count": 7,
   "metadata": {},
   "outputs": [
    {
     "ename": "SyntaxError",
     "evalue": "unexpected EOF while parsing (<ipython-input-7-4127fb18256e>, line 2)",
     "output_type": "error",
     "traceback": [
      "\u001b[0;36m  File \u001b[0;32m\"<ipython-input-7-4127fb18256e>\"\u001b[0;36m, line \u001b[0;32m2\u001b[0m\n\u001b[0;31m    # implement your code here\u001b[0m\n\u001b[0m                              ^\u001b[0m\n\u001b[0;31mSyntaxError\u001b[0m\u001b[0;31m:\u001b[0m unexpected EOF while parsing\n"
     ]
    }
   ],
   "source": [
    "def fuzz_transform(x, g):\n",
    "# implement your code here"
   ]
  },
  {
   "cell_type": "code",
   "execution_count": null,
   "metadata": {},
   "outputs": [],
   "source": [
    "def fuzz_conv(inlist, g):\n",
    "    for i in range(len(inlist)):\n",
    "        x = inlist[i]\n",
    "        inlist[i] = fuzz_transform(x, g)\n",
    "            \n",
    "def fuzz(waveIn, gain):\n",
    "    waveOut = waveIn.copy()\n",
    "    fuzz_conv(waveOut.ys, gain)\n",
    "    waveOut.normalize()\n",
    "    return waveOut"
   ]
  },
  {
   "cell_type": "markdown",
   "metadata": {},
   "source": [
    "Test the implementation below. The plot of the correct answer is"
   ]
  },
  {
   "cell_type": "markdown",
   "metadata": {},
   "source": [
    "<img src=\"fuzz.png\">"
   ]
  },
  {
   "cell_type": "code",
   "execution_count": null,
   "metadata": {},
   "outputs": [],
   "source": [
    "g = 11\n",
    "x = np.arange(-1,1,0.01)\n",
    "y = np.arange(-1,1,0.01)\n",
    "fuzz_conv(y,g)\n",
    "plt.plot(x,y)"
   ]
  },
  {
   "cell_type": "markdown",
   "metadata": {},
   "source": [
    "Present the results below when the fuzz effect is applied to sine wave and synthesis sound."
   ]
  },
  {
   "cell_type": "code",
   "execution_count": null,
   "metadata": {},
   "outputs": [],
   "source": []
  }
 ],
 "metadata": {
  "kernelspec": {
   "display_name": "Python 3",
   "language": "python",
   "name": "python3"
  },
  "language_info": {
   "codemirror_mode": {
    "name": "ipython",
    "version": 3
   },
   "file_extension": ".py",
   "mimetype": "text/x-python",
   "name": "python",
   "nbconvert_exporter": "python",
   "pygments_lexer": "ipython3",
   "version": "3.8.5"
  }
 },
 "nbformat": 4,
 "nbformat_minor": 2
}
